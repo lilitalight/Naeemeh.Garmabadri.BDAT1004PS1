{
 "cells": [
  {
   "cell_type": "code",
   "execution_count": 74,
   "id": "bd76caf9",
   "metadata": {},
   "outputs": [
    {
     "name": "stdout",
     "output_type": "stream",
     "text": [
      "System.Int32\r\n"
     ]
    }
   ],
   "source": [
    "//Question 1 C#\n",
    "\n",
    "object n = 5;\n",
    "Console.WriteLine(n.GetType());  "
   ]
  },
  {
   "cell_type": "code",
   "execution_count": 75,
   "id": "2af6e5af",
   "metadata": {},
   "outputs": [
    {
     "name": "stdout",
     "output_type": "stream",
     "text": [
      "System.Double\r\n"
     ]
    }
   ],
   "source": [
    "//Question 1 C#\n",
    "\n",
    "object n = 5.0;\n",
    "Console.WriteLine(n.GetType());  \n"
   ]
  },
  {
   "cell_type": "code",
   "execution_count": 76,
   "id": "1a7d44fb",
   "metadata": {},
   "outputs": [
    {
     "name": "stdout",
     "output_type": "stream",
     "text": [
      "True\n",
      "System.Boolean\n"
     ]
    }
   ],
   "source": [
    "//Question 1 C#\n",
    "\n",
    "object n = 5>1;\n",
    "Console.WriteLine(n);  \n",
    "Console.WriteLine(n.GetType());  "
   ]
  },
  {
   "cell_type": "code",
   "execution_count": 81,
   "id": "bbdcd8e4",
   "metadata": {},
   "outputs": [
    {
     "name": "stdout",
     "output_type": "stream",
     "text": [
      "System.Char\r\n"
     ]
    }
   ],
   "source": [
    "//Question 1 C#\n",
    "\n",
    "object n = '5';\n",
    "Console.WriteLine(n.GetType());  "
   ]
  },
  {
   "cell_type": "code",
   "execution_count": 111,
   "id": "9a10c009",
   "metadata": {
    "scrolled": true
   },
   "outputs": [
    {
     "name": "stdout",
     "output_type": "stream",
     "text": [
      "10\n",
      "System.Int32\n"
     ]
    }
   ],
   "source": [
    "//Question 1 C#\n",
    "\n",
    "object z = 5 * 2;\n",
    "Console.WriteLine(z);\n",
    "Console.WriteLine(z.GetType()); "
   ]
  },
  {
   "cell_type": "code",
   "execution_count": 114,
   "id": "ec487438",
   "metadata": {},
   "outputs": [
    {
     "name": "stdout",
     "output_type": "stream",
     "text": [
      "106\n",
      "System.Int32\n"
     ]
    }
   ],
   "source": [
    "//Question 1 C#\n",
    "\n",
    "object z = '5' * 2;\n",
    "Console.WriteLine(z);\n",
    "Console.WriteLine(z.GetType()); \n"
   ]
  },
  {
   "cell_type": "code",
   "execution_count": 113,
   "id": "b1fbc676",
   "metadata": {},
   "outputs": [
    {
     "name": "stdout",
     "output_type": "stream",
     "text": [
      "103\n",
      "53\n",
      "50\n",
      "System.Int32\n"
     ]
    }
   ],
   "source": [
    "//Question 1 C#\n",
    "\n",
    "object z = '5' + '2';\n",
    "Console.WriteLine(z);\n",
    "Console.WriteLine((int) '5');\n",
    "Console.WriteLine((int) '2');\n",
    "Console.WriteLine(z.GetType()); \n"
   ]
  },
  {
   "cell_type": "code",
   "execution_count": 102,
   "id": "bc3b97cc",
   "metadata": {},
   "outputs": [
    {
     "name": "stdout",
     "output_type": "stream",
     "text": [
      "System.Int32\r\n"
     ]
    }
   ],
   "source": [
    "//Question 1 C#\n",
    "\n",
    "object z = 5 / 2;\n",
    "Console.WriteLine(z.GetType()); "
   ]
  },
  {
   "cell_type": "code",
   "execution_count": 101,
   "id": "919dacf1",
   "metadata": {},
   "outputs": [
    {
     "name": "stdout",
     "output_type": "stream",
     "text": [
      "System.Int32\r\n"
     ]
    }
   ],
   "source": [
    "//Question 1 C#\n",
    "\n",
    "object z = 5 % 2;\n",
    "Console.WriteLine(z.GetType()); \n"
   ]
  },
  {
   "cell_type": "code",
   "execution_count": 115,
   "id": "8bb08b0a",
   "metadata": {},
   "outputs": [
    {
     "name": "stdout",
     "output_type": "stream",
     "text": [
      "System.Int32[]\r\n"
     ]
    }
   ],
   "source": [
    "//Question 1 C#\n",
    "\n",
    "int[] p = { 5, 3, 1 };\n",
    "Console.WriteLine(p);   "
   ]
  },
  {
   "cell_type": "code",
   "execution_count": 117,
   "id": "322514bc",
   "metadata": {},
   "outputs": [
    {
     "name": "stdout",
     "output_type": "stream",
     "text": [
      "False\n",
      "System.Boolean\n"
     ]
    }
   ],
   "source": [
    "//Question 1 C#\n",
    "\n",
    "object x = 5;\n",
    "object y = 3;\n",
    "object z = x == y;\n",
    "Console.WriteLine(z);\n",
    "Console.WriteLine(z.GetType());"
   ]
  },
  {
   "cell_type": "code",
   "execution_count": 118,
   "id": "fc429f16",
   "metadata": {},
   "outputs": [
    {
     "name": "stdout",
     "output_type": "stream",
     "text": [
      "3.141592653589793 - System.Double\r\n"
     ]
    }
   ],
   "source": [
    "//Question 1 C#\n",
    "\n",
    "object pnum;\n",
    "pnum = Math.PI;\n",
    "Console.WriteLine(pnum + \" - \" + pnum.GetType());"
   ]
  },
  {
   "cell_type": "code",
   "execution_count": 119,
   "id": "67c05fc1",
   "metadata": {},
   "outputs": [
    {
     "name": "stdout",
     "output_type": "stream",
     "text": [
      "34\r\n"
     ]
    }
   ],
   "source": [
    "//#Question 2-a C#\n",
    "\n",
    "string txt = \"Supercalifragilisticexpialidocious\";\n",
    "int letters = 0;\n",
    "foreach(char temp in txt)\n",
    "{\n",
    "    letters++;\n",
    "}\n",
    "\n",
    "Console.WriteLine(letters.ToString());\n"
   ]
  },
  {
   "cell_type": "code",
   "execution_count": 120,
   "id": "5b1594ba",
   "metadata": {},
   "outputs": [
    {
     "name": "stdout",
     "output_type": "stream",
     "text": [
      "selected word is FOUND! the extracted word is = ice\n",
      "\n",
      "start index of selected word is 18\n",
      "\n",
      "lenth of selected word is 3\n",
      "\n"
     ]
    }
   ],
   "source": [
    "//#Question 2-b C#\n",
    "string txt = \"Supercalifragilisticexpialidocious\";\n",
    "string search = \"ice\";\n",
    "\n",
    "\n",
    "\n",
    "    \n",
    "    if (txt.Contains(search) )\n",
    "    {\n",
    "        \n",
    "        int start;\n",
    "        int end;\n",
    "        start = txt.IndexOf(search,0);\n",
    "        end = search.Length;\n",
    "        Console.WriteLine(\"selected word is FOUND! the extracted word is = \" + txt.Substring(start, end)+\"\\n\");\n",
    "        Console.WriteLine($\"start index of selected word is {start}\\n\");\n",
    "        Console.WriteLine($\"lenth of selected word is {end}\\n\");\n",
    "\n",
    "\n",
    "    \n",
    "    }"
   ]
  },
  {
   "cell_type": "code",
   "execution_count": 121,
   "id": "c2bfb6e8",
   "metadata": {},
   "outputs": [
    {
     "name": "stdout",
     "output_type": "stream",
     "text": [
      "Bababadalgharaghtakamminarronnkonnis biggest\r\n"
     ]
    }
   ],
   "source": [
    "//Question 2-c C#\n",
    "\n",
    "string txt1 = \"Supercalifragilisticexpialidocious\";\n",
    "string txt2 = \"Honorificabilitudinitatibus\";\n",
    "string txt3 = \"Bababadalgharaghtakamminarronnkonn\";\n",
    "\n",
    "int lenght1 , lenght2 , lenght3 ;\n",
    "lenght1 = txt1.Length;\n",
    "lenght2 = txt2.Length;  \n",
    "lenght3 = txt3.Length;\n",
    "if (lenght1 > lenght2)\n",
    "{\n",
    "    if(lenght1 > lenght3)\n",
    "    {\n",
    "        Console.WriteLine(txt1 + \"is biggest\");\n",
    "    }\n",
    "    else\n",
    "    {\n",
    "        Console.WriteLine(txt3 + \"is biggest\");\n",
    "    }\n",
    "\n",
    "}else if (lenght2 > lenght3)\n",
    "{\n",
    "    Console.WriteLine(txt2 + \"is biggest\");\n",
    "\n",
    "}\n",
    "else\n",
    "{\n",
    "    Console.WriteLine(txt3 + \"is biggest\");\n",
    "}\n",
    "\n",
    "\n"
   ]
  },
  {
   "cell_type": "code",
   "execution_count": 122,
   "id": "3fd8ddd4",
   "metadata": {},
   "outputs": [
    {
     "name": "stdout",
     "output_type": "stream",
     "text": [
      "Bartok\n",
      "Buxtehude\n"
     ]
    }
   ],
   "source": [
    "//#Question 2-d\n",
    "\n",
    "List<string> composers = new List<string>();\n",
    "composers.Add(\"Berlioz\");\n",
    "composers.Add(\"Borodin\");\n",
    "composers.Add(\"Brian\");\n",
    "composers.Add(\"Bartok\");\n",
    "composers.Add(\"Bellini\");\n",
    "composers.Add(\"Buxtehude\");\n",
    "composers.Add(\"Bernstein\");\n",
    "composers.Sort();\n",
    "Console.WriteLine(composers.First());\n",
    "Console.WriteLine(composers.Last());"
   ]
  },
  {
   "cell_type": "code",
   "execution_count": 123,
   "id": "5d79326b",
   "metadata": {},
   "outputs": [
    {
     "name": "stdout",
     "output_type": "stream",
     "text": [
      "1.7320508075688772\r\n"
     ]
    }
   ],
   "source": [
    "//Question 3 C#\n",
    "\n",
    "Console.WriteLine(TriangleArea(2, 2, 2).ToString());\n",
    "\n",
    "\n",
    " double TriangleArea(int a, int b, int c)\n",
    "{\n",
    "    double triarea;\n",
    "    //heron's formula\n",
    "    double s = (a + b + c) / 2;\n",
    "    triarea = Math.Sqrt(s * ((s - a) * (s - b) * (s - c)));\n",
    "\n",
    "\n",
    "    return triarea;\n",
    "}\n",
    "\n",
    "\n"
   ]
  },
  {
   "cell_type": "code",
   "execution_count": 9,
   "id": "24390279",
   "metadata": {},
   "outputs": [],
   "source": [
    "//Question 4 C#"
   ]
  },
  {
   "cell_type": "code",
   "execution_count": 6,
   "id": "9bc996fc",
   "metadata": {},
   "outputs": [
    {
     "name": "stdout",
     "output_type": "stream",
     "text": [
      "True\n",
      "\n",
      "False\n",
      "\n"
     ]
    }
   ],
   "source": [
    "//Question 5-a C#\n",
    "\n",
    "bool inside( int x, int y,int x1, int y1, int x2, int y2)\n",
    "{\n",
    "    if (x > x1 && x < x2 && y > y1 && y < y2)\n",
    "    {\n",
    "        return true;\n",
    "\n",
    "    }else\n",
    "    {\n",
    "        return false;\n",
    "    }\n",
    "\n",
    "}\n",
    "\n",
    "Console.WriteLine(inside(1, 1, 0, 0, 2, 3) + \"\\n\");\n",
    "\n",
    "Console.WriteLine(inside(-1, -1, 0, 0, 2, 3) + \"\\n\");"
   ]
  },
  {
   "cell_type": "code",
   "execution_count": 126,
   "id": "56fe35b3",
   "metadata": {},
   "outputs": [
    {
     "name": "stdout",
     "output_type": "stream",
     "text": [
      "False\r\n"
     ]
    }
   ],
   "source": [
    "//Question 5-b C#\n",
    "\n",
    "bool inside(double x, double y)\n",
    "{\n",
    "    if ((x > 0.3 && x < 0.5 && y > 1.1 && y < 0.7) && (x > 0.5 && x < 0.2 && y > 1.1 && y < 2))\n",
    "    {\n",
    "        return true;\n",
    "\n",
    "    }\n",
    "    else\n",
    "    {\n",
    "        return false;\n",
    "    }\n",
    "\n",
    "}\n",
    "\n",
    "Console.WriteLine(inside(1, 1));\n"
   ]
  }
 ],
 "metadata": {
  "kernelspec": {
   "display_name": ".NET (C#)",
   "language": "C#",
   "name": ".net-csharp"
  },
  "language_info": {
   "file_extension": ".cs",
   "mimetype": "text/x-csharp",
   "name": "C#",
   "pygments_lexer": "csharp",
   "version": "8.0"
  }
 },
 "nbformat": 4,
 "nbformat_minor": 5
}
