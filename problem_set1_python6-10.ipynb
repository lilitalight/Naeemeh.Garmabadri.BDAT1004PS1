{
 "cells": [
  {
   "cell_type": "code",
   "execution_count": 14,
   "id": "946c8bc7",
   "metadata": {},
   "outputs": [
    {
     "name": "stdout",
     "output_type": "stream",
     "text": [
      "Enter a word to translate to Pig Latin: efrwrwer\n",
      "E is vowel\n",
      "The word in Pig Latin is: efrwrwerway\n"
     ]
    }
   ],
   "source": [
    "#Question 6 python\n",
    "\n",
    "def pig(word):\n",
    "    ay = 'ay'\n",
    "    way = 'way'\n",
    "    consonant = ('B','C','D','F','G','H','J','K','L','M','N','P','Q','R','S','T','Y','V','X','Z')\n",
    "    vowel = ('A','E','I','O','U')\n",
    "    first_char = word[0]\n",
    "    first_char = str(first_char)\n",
    "    if first_char in consonant:\n",
    "        print(first_char,'is consonant')\n",
    "        words_length = len(word)\n",
    "        first_char_without_first = word[1:words_length]\n",
    "        pig_latin=first_char_without_first+first_char+ay\n",
    "        print('The word in Pig Latin is:',pig_latin.lower())\n",
    "    elif first_char in vowel:\n",
    "        print(first_char,'is vowel')\n",
    "        pig_latin=word+way\n",
    "        print('The word in Pig Latin is:',pig_latin.lower())\n",
    "    else:\n",
    "        print('I dont know what the ',first_char,' is')\n",
    "       \n",
    "   \n",
    "pig(input('Enter a word to translate to Pig Latin: ').upper())\n",
    "   \n",
    "   "
   ]
  },
  {
   "cell_type": "code",
   "execution_count": 10,
   "id": "e16fb26b",
   "metadata": {},
   "outputs": [
    {
     "name": "stdout",
     "output_type": "stream",
     "text": [
      "There are 15 patients of blood type A\n",
      "There are 1 patients of blood type B\n",
      "There are 13 patients of blood type AB\n",
      "There are 15 patients of blood type O\n",
      "There are 0 patients of blood type OO\n"
     ]
    }
   ],
   "source": [
    "#Question 7 python\n",
    "\n",
    "def bldcount(file):\n",
    "    A = 0\n",
    "    B = 0\n",
    "    AB = 0\n",
    "    O = 0\n",
    "    OO = 0 \n",
    "    with open(file,'r') as file:\n",
    "        for line in file:          \n",
    "            for x in line.split():\n",
    "                if x == 'A':\n",
    "                        A += 1\n",
    "                elif x == 'B':\n",
    "                        B += 1\n",
    "                elif x == 'AB':\n",
    "                        AB += 1\n",
    "                elif x == 'O':\n",
    "                        O += 1\n",
    "                elif x == 'OO':\n",
    "                        OO += 1\n",
    "    \n",
    "    print(\"There are\" , A , \"patients of blood type A\")\n",
    "    print(\"There are\" , B , \"patients of blood type B\")\n",
    "    print(\"There are\" , AB , \"patients of blood type AB\")\n",
    "    print(\"There are\" , O , \"patients of blood type O\")\n",
    "    print(\"There are\" , OO , \"patients of blood type OO\")\n",
    " \n",
    "\n",
    "\n",
    "bldcount('D:\\\\DESK\\\\bloodtype.txt')\n",
    "\n"
   ]
  },
  {
   "cell_type": "code",
   "execution_count": 3,
   "id": "7cae1b74",
   "metadata": {},
   "outputs": [
    {
     "name": "stdout",
     "output_type": "stream",
     "text": [
      "122.96544\n"
     ]
    }
   ],
   "source": [
    "#Question 8 python\n",
    "\n",
    "def curconv(cur,amount):\n",
    "    \n",
    "    currenciesdata = {}\n",
    "    try:\n",
    "        with open('D:\\DESK\\currencies.txt','r') as file:\n",
    "            for line in file:\n",
    "                x = line.split()\n",
    "                line.split()\n",
    "                currenciesdata[x[0]] = x[1]\n",
    "\n",
    "            print(amount * float(currenciesdata.get(cur)))\n",
    "    except:\n",
    "      print(\"An exception occurred\")\n",
    "\n",
    "curconv('EUR',100)\n"
   ]
  },
  {
   "cell_type": "code",
   "execution_count": 23,
   "id": "f8bc1b92",
   "metadata": {},
   "outputs": [
    {
     "ename": "IndexError",
     "evalue": "list index out of range",
     "output_type": "error",
     "traceback": [
      "\u001b[1;31m---------------------------------------------------------------------------\u001b[0m",
      "\u001b[1;31mIndexError\u001b[0m                                Traceback (most recent call last)",
      "\u001b[1;32m~\\AppData\\Local\\Temp/ipykernel_9348/2090897967.py\u001b[0m in \u001b[0;36m<module>\u001b[1;34m\u001b[0m\n\u001b[0;32m      2\u001b[0m \u001b[1;33m\u001b[0m\u001b[0m\n\u001b[0;32m      3\u001b[0m \u001b[0mtest_list\u001b[0m \u001b[1;33m=\u001b[0m \u001b[1;33m[\u001b[0m\u001b[1;34m'1'\u001b[0m\u001b[1;33m,\u001b[0m \u001b[1;34m'2'\u001b[0m\u001b[1;33m,\u001b[0m \u001b[1;34m'3'\u001b[0m\u001b[1;33m,\u001b[0m \u001b[1;34m'4'\u001b[0m\u001b[1;33m,\u001b[0m \u001b[1;34m'5'\u001b[0m\u001b[1;33m,\u001b[0m \u001b[1;34m'6'\u001b[0m\u001b[1;33m,\u001b[0m \u001b[1;34m'7'\u001b[0m\u001b[1;33m,\u001b[0m \u001b[1;34m'8'\u001b[0m\u001b[1;33m,\u001b[0m \u001b[1;34m'9'\u001b[0m\u001b[1;33m,\u001b[0m \u001b[1;34m'10'\u001b[0m\u001b[1;33m]\u001b[0m\u001b[1;33m\u001b[0m\u001b[1;33m\u001b[0m\u001b[0m\n\u001b[1;32m----> 4\u001b[1;33m \u001b[0mprint\u001b[0m\u001b[1;33m(\u001b[0m\u001b[0mtest_list\u001b[0m\u001b[1;33m[\u001b[0m\u001b[1;36m12\u001b[0m\u001b[1;33m]\u001b[0m\u001b[1;33m)\u001b[0m \u001b[1;31m#index out of range\u001b[0m\u001b[1;33m\u001b[0m\u001b[1;33m\u001b[0m\u001b[0m\n\u001b[0m\u001b[0;32m      5\u001b[0m \u001b[1;33m\u001b[0m\u001b[0m\n\u001b[0;32m      6\u001b[0m \u001b[1;31m# import math\u001b[0m\u001b[1;33m\u001b[0m\u001b[1;33m\u001b[0m\u001b[0m\n",
      "\u001b[1;31mIndexError\u001b[0m: list index out of range"
     ]
    }
   ],
   "source": [
    "#Question 9 python\n",
    "\n",
    "print(6 + 'a') #unsupported operand  for + 'int' and 'str'\n",
    "\n",
    "test_list = ['1', '2', '3', '4', '5', '6', '7', '8', '9', '10']\n",
    "print(test_list[12]) #index out of range\n",
    "\n",
    "import math\n",
    "print(math.sqrt(-1.0)) #domain error cause negative number \n",
    "\n",
    "\n",
    "print(undifinedvar) #name 'undifinedvar' is not defined\n",
    "\n",
    "\n",
    "file = open(\"D:/notexistedfile.txt\", \"r\")\n",
    "data = text_file.read()#No such file or directory\n"
   ]
  },
  {
   "cell_type": "code",
   "execution_count": 24,
   "id": "5fefd836",
   "metadata": {},
   "outputs": [
    {
     "name": "stdout",
     "output_type": "stream",
     "text": [
      "dict_values([1, 0, 0, 0, 1, 0, 0, 0, 0, 0, 0, 1, 0, 0, 0, 2, 0, 0, 0, 0, 0, 0, 0, 0, 0, 0])\n"
     ]
    }
   ],
   "source": [
    "#Question 10 python\n",
    "\n",
    "def frequencies(string):\n",
    "    letters = {\"a\":0 , \"b\":0, \"c\":0 , \"d\":0 , \"e\":0 , \"f\":0 , \"g\":0 , \"h\":0 , \"i\":0 , \"j\":0 , \"k\":0 , \"l\":0 , \"m\":0 , \"n\":0 , \"o\":0  , \"p\":0 , \"q\":0 , \"r\":0 , \"s\":0 , \"t\":0 , \"u\":0 , \"v\":0 , \"w\":0 , \"x\":0 , \"y\":0 , \"z\":0 }\n",
    "    #\"abcdefghijklmnopqrstuvwxyz\"\n",
    "    for character in string:\n",
    "        #print(character , \"\\n\")\n",
    "        if(character in letters):\n",
    "            letters[character] = letters[character]+1\n",
    "    print(letters.values())\n",
    "    \n",
    "#frequencies(\"abcdefghijklmnopqrstuvwxyz\")\n",
    "frequencies(\"apple\")"
   ]
  },
  {
   "cell_type": "code",
   "execution_count": null,
   "id": "200ec897",
   "metadata": {},
   "outputs": [],
   "source": []
  }
 ],
 "metadata": {
  "kernelspec": {
   "display_name": "Python 3 (ipykernel)",
   "language": "python",
   "name": "python3"
  },
  "language_info": {
   "codemirror_mode": {
    "name": "ipython",
    "version": 3
   },
   "file_extension": ".py",
   "mimetype": "text/x-python",
   "name": "python",
   "nbconvert_exporter": "python",
   "pygments_lexer": "ipython3",
   "version": "3.9.7"
  }
 },
 "nbformat": 4,
 "nbformat_minor": 5
}
